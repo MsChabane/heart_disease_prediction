{
 "cells": [
  {
   "cell_type": "markdown",
   "id": "d2df781e",
   "metadata": {},
   "source": [
    "# Experiment 1\n",
    "\n",
    "- try caple of algirithmes with default params\n",
    "- try both with/without normalisation\n",
    "- try both `MinMaxScaler` and `StandardScaler`\n",
    "- compare the result\n"
   ]
  },
  {
   "cell_type": "code",
   "execution_count": 3,
   "id": "27756b19",
   "metadata": {},
   "outputs": [],
   "source": [
    "import pandas as pd\n",
    "import numpy as np\n",
    "from sklearn.model_selection import train_test_split\n",
    "from sklearn.linear_model import LogisticRegression\n",
    "from sklearn.preprocessing import StandardScaler,MinMaxScaler\n",
    "from sklearn.tree import DecisionTreeClassifier\n",
    "from sklearn.ensemble import RandomForestClassifier,GradientBoostingClassifier,HistGradientBoostingClassifier,BaggingClassifier,AdaBoostClassifier\n",
    "from sklearn.svm import SVC\n",
    "\n",
    "from sklearn.metrics import accuracy_score,f1_score,confusion_matrix,roc_auc_score\n",
    "import time\n",
    "from xgboost import XGBClassifier"
   ]
  },
  {
   "cell_type": "code",
   "execution_count": 4,
   "id": "234d1f12",
   "metadata": {},
   "outputs": [],
   "source": [
    "df=pd.read_csv(\n",
    "    '../data/cleaned_data.csv'\n",
    ")"
   ]
  },
  {
   "cell_type": "code",
   "execution_count": 5,
   "id": "90edf546",
   "metadata": {},
   "outputs": [],
   "source": [
    "X_train,X_test,y_train,y_test=train_test_split(df.drop('target',axis=1),df.target,test_size=0.2,random_state=42)"
   ]
  },
  {
   "cell_type": "code",
   "execution_count": 6,
   "id": "c2080629",
   "metadata": {},
   "outputs": [],
   "source": [
    "train=(X_train,y_train)\n",
    "test=(X_test,y_test)"
   ]
  },
  {
   "cell_type": "code",
   "execution_count": 7,
   "id": "7bac106b",
   "metadata": {},
   "outputs": [],
   "source": [
    "def evaluate_model(model,model_name:str,train:tuple,test:tuple):\n",
    "    start_train=time.time()\n",
    "    model.fit(train[0],train[1])\n",
    "    end_train=time.time()\n",
    "    start_test=time.time()\n",
    "    preds = model.predict(test[0])\n",
    "    end_test=time.time()\n",
    "    accuracy=accuracy_score(test[1],preds)\n",
    "    f1_=f1_score(test[1],preds)\n",
    "    auc=roc_auc_score(test[1],preds)\n",
    "    cm=confusion_matrix(test[1],preds)\n",
    "    return {\"model\":model_name,\n",
    "           \"accuracy\":accuracy,\n",
    "            \"auc\":auc,\n",
    "            'f1_score':f1_,\n",
    "            \"cm\":cm,\n",
    "            'training_time(ms)':1000*(end_train-start_train),\n",
    "            'testing_time(ms)':1000*(end_test-start_test)\n",
    "           }"
   ]
  },
  {
   "cell_type": "code",
   "execution_count": 52,
   "id": "4af1d98d",
   "metadata": {},
   "outputs": [],
   "source": [
    "def evaluate_models(models:list,train:tuple,test:tuple)->pd.DataFrame:\n",
    "    result=[evaluate_model(model,model.__class__.__name__,train,test)for model in models]\n",
    "    return pd.DataFrame(result)"
   ]
  },
  {
   "cell_type": "code",
   "execution_count": 63,
   "id": "83d791b5",
   "metadata": {},
   "outputs": [],
   "source": [
    "models =[\n",
    "    LogisticRegression(random_state=0),\n",
    "    SVC(random_state=0),\n",
    "    DecisionTreeClassifier(random_state=0),\n",
    "    RandomForestClassifier(random_state=0),\n",
    "    GradientBoostingClassifier(random_state=0),\n",
    "    HistGradientBoostingClassifier(random_state=0),\n",
    "    BaggingClassifier(random_state=0),\n",
    "    AdaBoostClassifier(random_state=0)\n",
    "]"
   ]
  },
  {
   "cell_type": "markdown",
   "id": "4a164044",
   "metadata": {},
   "source": [
    "## Without normalisation\n"
   ]
  },
  {
   "cell_type": "code",
   "execution_count": 65,
   "id": "11535faf",
   "metadata": {},
   "outputs": [
    {
     "name": "stderr",
     "output_type": "stream",
     "text": [
      "d:\\Anaconda\\Lib\\site-packages\\sklearn\\linear_model\\_logistic.py:469: ConvergenceWarning: lbfgs failed to converge (status=1):\n",
      "STOP: TOTAL NO. of ITERATIONS REACHED LIMIT.\n",
      "\n",
      "Increase the number of iterations (max_iter) or scale the data as shown in:\n",
      "    https://scikit-learn.org/stable/modules/preprocessing.html\n",
      "Please also refer to the documentation for alternative solver options:\n",
      "    https://scikit-learn.org/stable/modules/linear_model.html#logistic-regression\n",
      "  n_iter_i = _check_optimize_result(\n",
      "d:\\Anaconda\\Lib\\site-packages\\sklearn\\ensemble\\_weight_boosting.py:519: FutureWarning: The SAMME.R algorithm (the default) is deprecated and will be removed in 1.6. Use the SAMME algorithm to circumvent this warning.\n",
      "  warnings.warn(\n"
     ]
    }
   ],
   "source": [
    "result =evaluate_models(models,train,test)"
   ]
  },
  {
   "cell_type": "code",
   "execution_count": 83,
   "id": "dcb21ba4",
   "metadata": {},
   "outputs": [
    {
     "data": {
      "text/plain": [
       "model                RandomForestClassifier\n",
       "accuracy                           0.896739\n",
       "auc                                0.898471\n",
       "f1_score                           0.909091\n",
       "cm                      [[70, 7], [12, 95]]\n",
       "training_time(ms)                238.950253\n",
       "testing_time(ms)                   8.750916\n",
       "normalisation                       without\n",
       "Name: 3, dtype: object"
      ]
     },
     "execution_count": 83,
     "metadata": {},
     "output_type": "execute_result"
    }
   ],
   "source": [
    "result.iloc[result['auc'].idxmax()]"
   ]
  },
  {
   "cell_type": "code",
   "execution_count": 82,
   "id": "43dd4b84",
   "metadata": {},
   "outputs": [
    {
     "data": {
      "text/plain": [
       "model                                 SVC\n",
       "accuracy                         0.684783\n",
       "auc                              0.687098\n",
       "f1_score                         0.712871\n",
       "cm                   [[54, 23], [35, 72]]\n",
       "training_time(ms)               32.946348\n",
       "testing_time(ms)                19.329548\n",
       "normalisation                     without\n",
       "Name: 1, dtype: object"
      ]
     },
     "execution_count": 82,
     "metadata": {},
     "output_type": "execute_result"
    }
   ],
   "source": [
    "result.iloc[result['auc'].idxmin()]"
   ]
  },
  {
   "cell_type": "code",
   "execution_count": 68,
   "id": "a459f5be",
   "metadata": {},
   "outputs": [],
   "source": [
    "result['normalisation']='without'"
   ]
  },
  {
   "cell_type": "code",
   "execution_count": 69,
   "id": "f6882237",
   "metadata": {},
   "outputs": [
    {
     "data": {
      "text/html": [
       "<div>\n",
       "<style scoped>\n",
       "    .dataframe tbody tr th:only-of-type {\n",
       "        vertical-align: middle;\n",
       "    }\n",
       "\n",
       "    .dataframe tbody tr th {\n",
       "        vertical-align: top;\n",
       "    }\n",
       "\n",
       "    .dataframe thead th {\n",
       "        text-align: right;\n",
       "    }\n",
       "</style>\n",
       "<table border=\"1\" class=\"dataframe\">\n",
       "  <thead>\n",
       "    <tr style=\"text-align: right;\">\n",
       "      <th></th>\n",
       "      <th>model</th>\n",
       "      <th>accuracy</th>\n",
       "      <th>auc</th>\n",
       "      <th>f1_score</th>\n",
       "      <th>cm</th>\n",
       "      <th>training_time(ms)</th>\n",
       "      <th>testing_time(ms)</th>\n",
       "      <th>normalisation</th>\n",
       "    </tr>\n",
       "  </thead>\n",
       "  <tbody>\n",
       "    <tr>\n",
       "      <th>0</th>\n",
       "      <td>LogisticRegression</td>\n",
       "      <td>0.831522</td>\n",
       "      <td>0.836934</td>\n",
       "      <td>0.847291</td>\n",
       "      <td>[[67, 10], [21, 86]]</td>\n",
       "      <td>53.141594</td>\n",
       "      <td>1.994848</td>\n",
       "      <td>without</td>\n",
       "    </tr>\n",
       "    <tr>\n",
       "      <th>1</th>\n",
       "      <td>SVC</td>\n",
       "      <td>0.684783</td>\n",
       "      <td>0.687098</td>\n",
       "      <td>0.712871</td>\n",
       "      <td>[[54, 23], [35, 72]]</td>\n",
       "      <td>32.946348</td>\n",
       "      <td>19.329548</td>\n",
       "      <td>without</td>\n",
       "    </tr>\n",
       "    <tr>\n",
       "      <th>2</th>\n",
       "      <td>DecisionTreeClassifier</td>\n",
       "      <td>0.804348</td>\n",
       "      <td>0.813570</td>\n",
       "      <td>0.818182</td>\n",
       "      <td>[[67, 10], [26, 81]]</td>\n",
       "      <td>6.979704</td>\n",
       "      <td>3.436804</td>\n",
       "      <td>without</td>\n",
       "    </tr>\n",
       "    <tr>\n",
       "      <th>3</th>\n",
       "      <td>RandomForestClassifier</td>\n",
       "      <td>0.896739</td>\n",
       "      <td>0.898471</td>\n",
       "      <td>0.909091</td>\n",
       "      <td>[[70, 7], [12, 95]]</td>\n",
       "      <td>238.950253</td>\n",
       "      <td>8.750916</td>\n",
       "      <td>without</td>\n",
       "    </tr>\n",
       "    <tr>\n",
       "      <th>4</th>\n",
       "      <td>GradientBoostingClassifier</td>\n",
       "      <td>0.869565</td>\n",
       "      <td>0.871465</td>\n",
       "      <td>0.884615</td>\n",
       "      <td>[[68, 9], [15, 92]]</td>\n",
       "      <td>191.018343</td>\n",
       "      <td>1.994848</td>\n",
       "      <td>without</td>\n",
       "    </tr>\n",
       "    <tr>\n",
       "      <th>5</th>\n",
       "      <td>HistGradientBoostingClassifier</td>\n",
       "      <td>0.853261</td>\n",
       "      <td>0.859267</td>\n",
       "      <td>0.866995</td>\n",
       "      <td>[[69, 8], [19, 88]]</td>\n",
       "      <td>473.515511</td>\n",
       "      <td>0.000000</td>\n",
       "      <td>without</td>\n",
       "    </tr>\n",
       "    <tr>\n",
       "      <th>6</th>\n",
       "      <td>BaggingClassifier</td>\n",
       "      <td>0.820652</td>\n",
       "      <td>0.829409</td>\n",
       "      <td>0.834171</td>\n",
       "      <td>[[68, 9], [24, 83]]</td>\n",
       "      <td>62.511921</td>\n",
       "      <td>5.492687</td>\n",
       "      <td>without</td>\n",
       "    </tr>\n",
       "    <tr>\n",
       "      <th>7</th>\n",
       "      <td>AdaBoostClassifier</td>\n",
       "      <td>0.836957</td>\n",
       "      <td>0.841607</td>\n",
       "      <td>0.852941</td>\n",
       "      <td>[[67, 10], [20, 87]]</td>\n",
       "      <td>111.458302</td>\n",
       "      <td>13.316631</td>\n",
       "      <td>without</td>\n",
       "    </tr>\n",
       "  </tbody>\n",
       "</table>\n",
       "</div>"
      ],
      "text/plain": [
       "                            model  accuracy       auc  f1_score  \\\n",
       "0              LogisticRegression  0.831522  0.836934  0.847291   \n",
       "1                             SVC  0.684783  0.687098  0.712871   \n",
       "2          DecisionTreeClassifier  0.804348  0.813570  0.818182   \n",
       "3          RandomForestClassifier  0.896739  0.898471  0.909091   \n",
       "4      GradientBoostingClassifier  0.869565  0.871465  0.884615   \n",
       "5  HistGradientBoostingClassifier  0.853261  0.859267  0.866995   \n",
       "6               BaggingClassifier  0.820652  0.829409  0.834171   \n",
       "7              AdaBoostClassifier  0.836957  0.841607  0.852941   \n",
       "\n",
       "                     cm  training_time(ms)  testing_time(ms) normalisation  \n",
       "0  [[67, 10], [21, 86]]          53.141594          1.994848       without  \n",
       "1  [[54, 23], [35, 72]]          32.946348         19.329548       without  \n",
       "2  [[67, 10], [26, 81]]           6.979704          3.436804       without  \n",
       "3   [[70, 7], [12, 95]]         238.950253          8.750916       without  \n",
       "4   [[68, 9], [15, 92]]         191.018343          1.994848       without  \n",
       "5   [[69, 8], [19, 88]]         473.515511          0.000000       without  \n",
       "6   [[68, 9], [24, 83]]          62.511921          5.492687       without  \n",
       "7  [[67, 10], [20, 87]]         111.458302         13.316631       without  "
      ]
     },
     "execution_count": 69,
     "metadata": {},
     "output_type": "execute_result"
    }
   ],
   "source": [
    "result"
   ]
  },
  {
   "cell_type": "markdown",
   "id": "3eec032f",
   "metadata": {},
   "source": [
    "## With normalisation\n"
   ]
  },
  {
   "cell_type": "code",
   "execution_count": 70,
   "id": "ebf81ca7",
   "metadata": {},
   "outputs": [],
   "source": [
    "scaler =MinMaxScaler()\n",
    "train=(scaler.fit_transform(X_train),y_train)\n",
    "test=(scaler.transform(X_test),y_test)"
   ]
  },
  {
   "cell_type": "code",
   "execution_count": 71,
   "id": "ae7b130e",
   "metadata": {},
   "outputs": [
    {
     "name": "stderr",
     "output_type": "stream",
     "text": [
      "d:\\Anaconda\\Lib\\site-packages\\sklearn\\ensemble\\_weight_boosting.py:519: FutureWarning: The SAMME.R algorithm (the default) is deprecated and will be removed in 1.6. Use the SAMME algorithm to circumvent this warning.\n",
      "  warnings.warn(\n"
     ]
    }
   ],
   "source": [
    "result_min_max=evaluate_models(models,train,test)"
   ]
  },
  {
   "cell_type": "code",
   "execution_count": 72,
   "id": "0d1d6ef8",
   "metadata": {},
   "outputs": [],
   "source": [
    "result_min_max['normalisation']='minmax'"
   ]
  },
  {
   "cell_type": "code",
   "execution_count": 73,
   "id": "66b651f3",
   "metadata": {},
   "outputs": [
    {
     "data": {
      "text/html": [
       "<div>\n",
       "<style scoped>\n",
       "    .dataframe tbody tr th:only-of-type {\n",
       "        vertical-align: middle;\n",
       "    }\n",
       "\n",
       "    .dataframe tbody tr th {\n",
       "        vertical-align: top;\n",
       "    }\n",
       "\n",
       "    .dataframe thead th {\n",
       "        text-align: right;\n",
       "    }\n",
       "</style>\n",
       "<table border=\"1\" class=\"dataframe\">\n",
       "  <thead>\n",
       "    <tr style=\"text-align: right;\">\n",
       "      <th></th>\n",
       "      <th>model</th>\n",
       "      <th>accuracy</th>\n",
       "      <th>auc</th>\n",
       "      <th>f1_score</th>\n",
       "      <th>cm</th>\n",
       "      <th>training_time(ms)</th>\n",
       "      <th>testing_time(ms)</th>\n",
       "      <th>normalisation</th>\n",
       "    </tr>\n",
       "  </thead>\n",
       "  <tbody>\n",
       "    <tr>\n",
       "      <th>0</th>\n",
       "      <td>LogisticRegression</td>\n",
       "      <td>0.847826</td>\n",
       "      <td>0.854594</td>\n",
       "      <td>0.861386</td>\n",
       "      <td>[[69, 8], [20, 87]]</td>\n",
       "      <td>3.949642</td>\n",
       "      <td>0.000000</td>\n",
       "      <td>minmax</td>\n",
       "    </tr>\n",
       "    <tr>\n",
       "      <th>1</th>\n",
       "      <td>SVC</td>\n",
       "      <td>0.836957</td>\n",
       "      <td>0.832504</td>\n",
       "      <td>0.859813</td>\n",
       "      <td>[[62, 15], [15, 92]]</td>\n",
       "      <td>34.428358</td>\n",
       "      <td>9.973526</td>\n",
       "      <td>minmax</td>\n",
       "    </tr>\n",
       "    <tr>\n",
       "      <th>2</th>\n",
       "      <td>DecisionTreeClassifier</td>\n",
       "      <td>0.815217</td>\n",
       "      <td>0.822915</td>\n",
       "      <td>0.830000</td>\n",
       "      <td>[[67, 10], [24, 83]]</td>\n",
       "      <td>0.000000</td>\n",
       "      <td>0.000000</td>\n",
       "      <td>minmax</td>\n",
       "    </tr>\n",
       "    <tr>\n",
       "      <th>3</th>\n",
       "      <td>RandomForestClassifier</td>\n",
       "      <td>0.896739</td>\n",
       "      <td>0.898471</td>\n",
       "      <td>0.909091</td>\n",
       "      <td>[[70, 7], [12, 95]]</td>\n",
       "      <td>249.080658</td>\n",
       "      <td>7.978916</td>\n",
       "      <td>minmax</td>\n",
       "    </tr>\n",
       "    <tr>\n",
       "      <th>4</th>\n",
       "      <td>GradientBoostingClassifier</td>\n",
       "      <td>0.869565</td>\n",
       "      <td>0.871465</td>\n",
       "      <td>0.884615</td>\n",
       "      <td>[[68, 9], [15, 92]]</td>\n",
       "      <td>224.465370</td>\n",
       "      <td>0.000000</td>\n",
       "      <td>minmax</td>\n",
       "    </tr>\n",
       "    <tr>\n",
       "      <th>5</th>\n",
       "      <td>HistGradientBoostingClassifier</td>\n",
       "      <td>0.853261</td>\n",
       "      <td>0.859267</td>\n",
       "      <td>0.866995</td>\n",
       "      <td>[[69, 8], [19, 88]]</td>\n",
       "      <td>300.050020</td>\n",
       "      <td>0.000000</td>\n",
       "      <td>minmax</td>\n",
       "    </tr>\n",
       "    <tr>\n",
       "      <th>6</th>\n",
       "      <td>BaggingClassifier</td>\n",
       "      <td>0.820652</td>\n",
       "      <td>0.829409</td>\n",
       "      <td>0.834171</td>\n",
       "      <td>[[68, 9], [24, 83]]</td>\n",
       "      <td>75.645924</td>\n",
       "      <td>2.515316</td>\n",
       "      <td>minmax</td>\n",
       "    </tr>\n",
       "    <tr>\n",
       "      <th>7</th>\n",
       "      <td>AdaBoostClassifier</td>\n",
       "      <td>0.836957</td>\n",
       "      <td>0.841607</td>\n",
       "      <td>0.852941</td>\n",
       "      <td>[[67, 10], [20, 87]]</td>\n",
       "      <td>150.208473</td>\n",
       "      <td>15.498161</td>\n",
       "      <td>minmax</td>\n",
       "    </tr>\n",
       "  </tbody>\n",
       "</table>\n",
       "</div>"
      ],
      "text/plain": [
       "                            model  accuracy       auc  f1_score  \\\n",
       "0              LogisticRegression  0.847826  0.854594  0.861386   \n",
       "1                             SVC  0.836957  0.832504  0.859813   \n",
       "2          DecisionTreeClassifier  0.815217  0.822915  0.830000   \n",
       "3          RandomForestClassifier  0.896739  0.898471  0.909091   \n",
       "4      GradientBoostingClassifier  0.869565  0.871465  0.884615   \n",
       "5  HistGradientBoostingClassifier  0.853261  0.859267  0.866995   \n",
       "6               BaggingClassifier  0.820652  0.829409  0.834171   \n",
       "7              AdaBoostClassifier  0.836957  0.841607  0.852941   \n",
       "\n",
       "                     cm  training_time(ms)  testing_time(ms) normalisation  \n",
       "0   [[69, 8], [20, 87]]           3.949642          0.000000        minmax  \n",
       "1  [[62, 15], [15, 92]]          34.428358          9.973526        minmax  \n",
       "2  [[67, 10], [24, 83]]           0.000000          0.000000        minmax  \n",
       "3   [[70, 7], [12, 95]]         249.080658          7.978916        minmax  \n",
       "4   [[68, 9], [15, 92]]         224.465370          0.000000        minmax  \n",
       "5   [[69, 8], [19, 88]]         300.050020          0.000000        minmax  \n",
       "6   [[68, 9], [24, 83]]          75.645924          2.515316        minmax  \n",
       "7  [[67, 10], [20, 87]]         150.208473         15.498161        minmax  "
      ]
     },
     "execution_count": 73,
     "metadata": {},
     "output_type": "execute_result"
    }
   ],
   "source": [
    "result_min_max"
   ]
  },
  {
   "cell_type": "code",
   "execution_count": 81,
   "id": "8508fc2d",
   "metadata": {},
   "outputs": [
    {
     "data": {
      "text/plain": [
       "model                RandomForestClassifier\n",
       "accuracy                           0.896739\n",
       "auc                                0.898471\n",
       "f1_score                           0.909091\n",
       "cm                      [[70, 7], [12, 95]]\n",
       "training_time(ms)                249.080658\n",
       "testing_time(ms)                   7.978916\n",
       "normalisation                        minmax\n",
       "Name: 3, dtype: object"
      ]
     },
     "execution_count": 81,
     "metadata": {},
     "output_type": "execute_result"
    }
   ],
   "source": [
    "result_min_max.iloc[result_min_max['auc'].idxmax()]"
   ]
  },
  {
   "cell_type": "code",
   "execution_count": 80,
   "id": "3b7240a1",
   "metadata": {},
   "outputs": [
    {
     "data": {
      "text/plain": [
       "model                DecisionTreeClassifier\n",
       "accuracy                           0.815217\n",
       "auc                                0.822915\n",
       "f1_score                               0.83\n",
       "cm                     [[67, 10], [24, 83]]\n",
       "training_time(ms)                       0.0\n",
       "testing_time(ms)                        0.0\n",
       "normalisation                        minmax\n",
       "Name: 2, dtype: object"
      ]
     },
     "execution_count": 80,
     "metadata": {},
     "output_type": "execute_result"
    }
   ],
   "source": [
    "result_min_max.iloc[result_min_max['auc'].idxmin()]"
   ]
  },
  {
   "cell_type": "code",
   "execution_count": 101,
   "id": "3353980a",
   "metadata": {},
   "outputs": [],
   "source": [
    "scaler=  StandardScaler()\n",
    "train=(scaler.fit_transform(X_train),y_train)\n",
    "test=(scaler.transform(X_test),y_test)"
   ]
  },
  {
   "cell_type": "code",
   "execution_count": 102,
   "id": "d23ed94e",
   "metadata": {},
   "outputs": [
    {
     "name": "stderr",
     "output_type": "stream",
     "text": [
      "d:\\Anaconda\\Lib\\site-packages\\sklearn\\ensemble\\_weight_boosting.py:519: FutureWarning: The SAMME.R algorithm (the default) is deprecated and will be removed in 1.6. Use the SAMME algorithm to circumvent this warning.\n",
      "  warnings.warn(\n"
     ]
    }
   ],
   "source": [
    "result_standard_scaler=evaluate_models(models,train,test)"
   ]
  },
  {
   "cell_type": "code",
   "execution_count": 103,
   "id": "4ed01acb",
   "metadata": {},
   "outputs": [],
   "source": [
    "result_standard_scaler['normalisation']='standard'"
   ]
  },
  {
   "cell_type": "code",
   "execution_count": 104,
   "id": "94fb29d9",
   "metadata": {},
   "outputs": [
    {
     "data": {
      "text/html": [
       "<div>\n",
       "<style scoped>\n",
       "    .dataframe tbody tr th:only-of-type {\n",
       "        vertical-align: middle;\n",
       "    }\n",
       "\n",
       "    .dataframe tbody tr th {\n",
       "        vertical-align: top;\n",
       "    }\n",
       "\n",
       "    .dataframe thead th {\n",
       "        text-align: right;\n",
       "    }\n",
       "</style>\n",
       "<table border=\"1\" class=\"dataframe\">\n",
       "  <thead>\n",
       "    <tr style=\"text-align: right;\">\n",
       "      <th></th>\n",
       "      <th>model</th>\n",
       "      <th>accuracy</th>\n",
       "      <th>auc</th>\n",
       "      <th>f1_score</th>\n",
       "      <th>cm</th>\n",
       "      <th>training_time(ms)</th>\n",
       "      <th>testing_time(ms)</th>\n",
       "      <th>normalisation</th>\n",
       "    </tr>\n",
       "  </thead>\n",
       "  <tbody>\n",
       "    <tr>\n",
       "      <th>0</th>\n",
       "      <td>LogisticRegression</td>\n",
       "      <td>0.847826</td>\n",
       "      <td>0.852773</td>\n",
       "      <td>0.862745</td>\n",
       "      <td>[[68, 9], [19, 88]]</td>\n",
       "      <td>11.655569</td>\n",
       "      <td>0.000000</td>\n",
       "      <td>standard</td>\n",
       "    </tr>\n",
       "    <tr>\n",
       "      <th>1</th>\n",
       "      <td>SVC</td>\n",
       "      <td>0.875000</td>\n",
       "      <td>0.870676</td>\n",
       "      <td>0.893023</td>\n",
       "      <td>[[65, 12], [11, 96]]</td>\n",
       "      <td>23.468256</td>\n",
       "      <td>6.981134</td>\n",
       "      <td>standard</td>\n",
       "    </tr>\n",
       "    <tr>\n",
       "      <th>2</th>\n",
       "      <td>DecisionTreeClassifier</td>\n",
       "      <td>0.815217</td>\n",
       "      <td>0.822915</td>\n",
       "      <td>0.830000</td>\n",
       "      <td>[[67, 10], [24, 83]]</td>\n",
       "      <td>4.851818</td>\n",
       "      <td>0.996351</td>\n",
       "      <td>standard</td>\n",
       "    </tr>\n",
       "    <tr>\n",
       "      <th>3</th>\n",
       "      <td>RandomForestClassifier</td>\n",
       "      <td>0.896739</td>\n",
       "      <td>0.898471</td>\n",
       "      <td>0.909091</td>\n",
       "      <td>[[70, 7], [12, 95]]</td>\n",
       "      <td>255.483389</td>\n",
       "      <td>8.496761</td>\n",
       "      <td>standard</td>\n",
       "    </tr>\n",
       "    <tr>\n",
       "      <th>4</th>\n",
       "      <td>GradientBoostingClassifier</td>\n",
       "      <td>0.869565</td>\n",
       "      <td>0.871465</td>\n",
       "      <td>0.884615</td>\n",
       "      <td>[[68, 9], [15, 92]]</td>\n",
       "      <td>199.975491</td>\n",
       "      <td>0.000000</td>\n",
       "      <td>standard</td>\n",
       "    </tr>\n",
       "    <tr>\n",
       "      <th>5</th>\n",
       "      <td>HistGradientBoostingClassifier</td>\n",
       "      <td>0.853261</td>\n",
       "      <td>0.859267</td>\n",
       "      <td>0.866995</td>\n",
       "      <td>[[69, 8], [19, 88]]</td>\n",
       "      <td>298.398018</td>\n",
       "      <td>0.000000</td>\n",
       "      <td>standard</td>\n",
       "    </tr>\n",
       "    <tr>\n",
       "      <th>6</th>\n",
       "      <td>BaggingClassifier</td>\n",
       "      <td>0.815217</td>\n",
       "      <td>0.824736</td>\n",
       "      <td>0.828283</td>\n",
       "      <td>[[68, 9], [25, 82]]</td>\n",
       "      <td>33.116579</td>\n",
       "      <td>0.000000</td>\n",
       "      <td>standard</td>\n",
       "    </tr>\n",
       "    <tr>\n",
       "      <th>7</th>\n",
       "      <td>AdaBoostClassifier</td>\n",
       "      <td>0.836957</td>\n",
       "      <td>0.841607</td>\n",
       "      <td>0.852941</td>\n",
       "      <td>[[67, 10], [20, 87]]</td>\n",
       "      <td>133.118153</td>\n",
       "      <td>16.908884</td>\n",
       "      <td>standard</td>\n",
       "    </tr>\n",
       "  </tbody>\n",
       "</table>\n",
       "</div>"
      ],
      "text/plain": [
       "                            model  accuracy       auc  f1_score  \\\n",
       "0              LogisticRegression  0.847826  0.852773  0.862745   \n",
       "1                             SVC  0.875000  0.870676  0.893023   \n",
       "2          DecisionTreeClassifier  0.815217  0.822915  0.830000   \n",
       "3          RandomForestClassifier  0.896739  0.898471  0.909091   \n",
       "4      GradientBoostingClassifier  0.869565  0.871465  0.884615   \n",
       "5  HistGradientBoostingClassifier  0.853261  0.859267  0.866995   \n",
       "6               BaggingClassifier  0.815217  0.824736  0.828283   \n",
       "7              AdaBoostClassifier  0.836957  0.841607  0.852941   \n",
       "\n",
       "                     cm  training_time(ms)  testing_time(ms) normalisation  \n",
       "0   [[68, 9], [19, 88]]          11.655569          0.000000      standard  \n",
       "1  [[65, 12], [11, 96]]          23.468256          6.981134      standard  \n",
       "2  [[67, 10], [24, 83]]           4.851818          0.996351      standard  \n",
       "3   [[70, 7], [12, 95]]         255.483389          8.496761      standard  \n",
       "4   [[68, 9], [15, 92]]         199.975491          0.000000      standard  \n",
       "5   [[69, 8], [19, 88]]         298.398018          0.000000      standard  \n",
       "6   [[68, 9], [25, 82]]          33.116579          0.000000      standard  \n",
       "7  [[67, 10], [20, 87]]         133.118153         16.908884      standard  "
      ]
     },
     "execution_count": 104,
     "metadata": {},
     "output_type": "execute_result"
    }
   ],
   "source": [
    "result_standard_scaler"
   ]
  },
  {
   "cell_type": "code",
   "execution_count": 105,
   "id": "944c78a0",
   "metadata": {},
   "outputs": [
    {
     "data": {
      "text/plain": [
       "model                RandomForestClassifier\n",
       "accuracy                           0.896739\n",
       "auc                                0.898471\n",
       "f1_score                           0.909091\n",
       "cm                      [[70, 7], [12, 95]]\n",
       "training_time(ms)                255.483389\n",
       "testing_time(ms)                   8.496761\n",
       "normalisation                      standard\n",
       "Name: 3, dtype: object"
      ]
     },
     "execution_count": 105,
     "metadata": {},
     "output_type": "execute_result"
    }
   ],
   "source": [
    "result_standard_scaler.iloc[result_standard_scaler['auc'].idxmax()]"
   ]
  },
  {
   "cell_type": "code",
   "execution_count": 106,
   "id": "a895aee8",
   "metadata": {},
   "outputs": [
    {
     "data": {
      "text/plain": [
       "model                DecisionTreeClassifier\n",
       "accuracy                           0.815217\n",
       "auc                                0.822915\n",
       "f1_score                               0.83\n",
       "cm                     [[67, 10], [24, 83]]\n",
       "training_time(ms)                  4.851818\n",
       "testing_time(ms)                   0.996351\n",
       "normalisation                      standard\n",
       "Name: 2, dtype: object"
      ]
     },
     "execution_count": 106,
     "metadata": {},
     "output_type": "execute_result"
    }
   ],
   "source": [
    "result_standard_scaler.iloc[result_standard_scaler['auc'].idxmin()]"
   ]
  },
  {
   "cell_type": "markdown",
   "id": "deb97ece",
   "metadata": {},
   "source": [
    "## Compare the result\n"
   ]
  },
  {
   "cell_type": "code",
   "execution_count": 120,
   "id": "bc88dd9b",
   "metadata": {},
   "outputs": [],
   "source": [
    "def interpret(result,result_min_max,result_standard_scaler,metric):\n",
    "    print(f\"{metric}\",end='\\n\\n')\n",
    "    for i in range(result.shape[0]):\n",
    "        no_normalisation=result.iloc[i]\n",
    "        mainmax_normalisation=result_min_max.iloc[i]\n",
    "        standard_normalisation=result_standard_scaler.iloc[i]\n",
    "        print(f'{no_normalisation['model']} >> without {no_normalisation[metric]:.3f} | min_max {mainmax_normalisation[metric]:.3f} | | standard {standard_normalisation[metric]:.3f}',end='\\n\\n')"
   ]
  },
  {
   "cell_type": "code",
   "execution_count": 121,
   "id": "5579ab15",
   "metadata": {},
   "outputs": [
    {
     "name": "stdout",
     "output_type": "stream",
     "text": [
      "auc\n",
      "\n",
      "LogisticRegression >> without 0.837 | min_max 0.855 | | standard 0.853\n",
      "\n",
      "SVC >> without 0.687 | min_max 0.833 | | standard 0.871\n",
      "\n",
      "DecisionTreeClassifier >> without 0.814 | min_max 0.823 | | standard 0.823\n",
      "\n",
      "RandomForestClassifier >> without 0.898 | min_max 0.898 | | standard 0.898\n",
      "\n",
      "GradientBoostingClassifier >> without 0.871 | min_max 0.871 | | standard 0.871\n",
      "\n",
      "HistGradientBoostingClassifier >> without 0.859 | min_max 0.859 | | standard 0.859\n",
      "\n",
      "BaggingClassifier >> without 0.829 | min_max 0.829 | | standard 0.825\n",
      "\n",
      "AdaBoostClassifier >> without 0.842 | min_max 0.842 | | standard 0.842\n",
      "\n"
     ]
    }
   ],
   "source": [
    "interpret(result,result_min_max,result_standard_scaler,metric='auc')"
   ]
  },
  {
   "cell_type": "markdown",
   "id": "3b716506",
   "metadata": {},
   "source": [
    "for _auc_\n",
    "\n",
    "- **low improvement** in LogisticRegression and DecisionTreeClassifier\n",
    "- **high improvement** in svc with standardscaler\n",
    "- **non improvement** in tree ensembles algorithms\n"
   ]
  },
  {
   "cell_type": "code",
   "execution_count": 122,
   "id": "53567e1f",
   "metadata": {},
   "outputs": [
    {
     "name": "stdout",
     "output_type": "stream",
     "text": [
      "accuracy\n",
      "\n",
      "LogisticRegression >> without 0.832 | min_max 0.848 | | standard 0.848\n",
      "\n",
      "SVC >> without 0.685 | min_max 0.837 | | standard 0.875\n",
      "\n",
      "DecisionTreeClassifier >> without 0.804 | min_max 0.815 | | standard 0.815\n",
      "\n",
      "RandomForestClassifier >> without 0.897 | min_max 0.897 | | standard 0.897\n",
      "\n",
      "GradientBoostingClassifier >> without 0.870 | min_max 0.870 | | standard 0.870\n",
      "\n",
      "HistGradientBoostingClassifier >> without 0.853 | min_max 0.853 | | standard 0.853\n",
      "\n",
      "BaggingClassifier >> without 0.821 | min_max 0.821 | | standard 0.815\n",
      "\n",
      "AdaBoostClassifier >> without 0.837 | min_max 0.837 | | standard 0.837\n",
      "\n"
     ]
    }
   ],
   "source": [
    "interpret(result,result_min_max,result_standard_scaler,metric='accuracy')"
   ]
  },
  {
   "cell_type": "markdown",
   "id": "50464da3",
   "metadata": {},
   "source": [
    "for _accuracy_\n",
    "\n",
    "- **low improvement** in LogisticRegression and DecisionTreeClassifier\n",
    "- **high improvement** in svc with standardscaler\n",
    "- **non improvement** in tree ensembles algorithms\n"
   ]
  },
  {
   "cell_type": "code",
   "execution_count": 123,
   "id": "322e1065",
   "metadata": {},
   "outputs": [
    {
     "name": "stdout",
     "output_type": "stream",
     "text": [
      "f1_score\n",
      "\n",
      "LogisticRegression >> without 0.847 | min_max 0.861 | | standard 0.863\n",
      "\n",
      "SVC >> without 0.713 | min_max 0.860 | | standard 0.893\n",
      "\n",
      "DecisionTreeClassifier >> without 0.818 | min_max 0.830 | | standard 0.830\n",
      "\n",
      "RandomForestClassifier >> without 0.909 | min_max 0.909 | | standard 0.909\n",
      "\n",
      "GradientBoostingClassifier >> without 0.885 | min_max 0.885 | | standard 0.885\n",
      "\n",
      "HistGradientBoostingClassifier >> without 0.867 | min_max 0.867 | | standard 0.867\n",
      "\n",
      "BaggingClassifier >> without 0.834 | min_max 0.834 | | standard 0.828\n",
      "\n",
      "AdaBoostClassifier >> without 0.853 | min_max 0.853 | | standard 0.853\n",
      "\n"
     ]
    }
   ],
   "source": [
    "interpret(result,result_min_max,result_standard_scaler,metric='f1_score')"
   ]
  },
  {
   "cell_type": "markdown",
   "id": "ad3dbef2",
   "metadata": {},
   "source": [
    "for _f1_score_\n",
    "\n",
    "- **low improvement** in LogisticRegression and DecisionTreeClassifier\n",
    "- **high improvement** in svc with standardscaler\n",
    "- **non improvement** in tree ensembles algorithms\n"
   ]
  },
  {
   "cell_type": "markdown",
   "id": "1cdf3e4c",
   "metadata": {},
   "source": [
    "## Save the result\n"
   ]
  },
  {
   "cell_type": "code",
   "execution_count": 108,
   "id": "ce6878e4",
   "metadata": {},
   "outputs": [],
   "source": [
    "all_result = pd.concat([result,result_min_max,result_standard_scaler])"
   ]
  },
  {
   "cell_type": "code",
   "execution_count": 109,
   "id": "88c978ab",
   "metadata": {},
   "outputs": [],
   "source": [
    "all_result.to_csv('../result/exp1.csv',index=False)"
   ]
  },
  {
   "cell_type": "markdown",
   "id": "a6ee3080",
   "metadata": {},
   "source": [
    "## try xgboost "
   ]
  },
  {
   "cell_type": "code",
   "execution_count": 8,
   "id": "ce265f1f",
   "metadata": {},
   "outputs": [],
   "source": [
    "xgb=XGBClassifier(random_state=0)"
   ]
  },
  {
   "cell_type": "markdown",
   "id": "a15d5438",
   "metadata": {},
   "source": [
    "### without normalisation"
   ]
  },
  {
   "cell_type": "code",
   "execution_count": 9,
   "id": "963d756c",
   "metadata": {},
   "outputs": [
    {
     "data": {
      "text/plain": [
       "{'model': 'XGBClassifier',\n",
       " 'accuracy': 0.8804347826086957,\n",
       " 'auc': 0.8862726058987741,\n",
       " 'f1_score': 0.8921568627450981,\n",
       " 'cm': array([[71,  6],\n",
       "        [16, 91]]),\n",
       " 'training_time(ms)': 225.9230613708496,\n",
       " 'testing_time(ms)': 3.3571720123291016}"
      ]
     },
     "execution_count": 9,
     "metadata": {},
     "output_type": "execute_result"
    }
   ],
   "source": [
    "rs_no_norm=evaluate_model(xgb,'XGBClassifier',train,test)\n",
    "rs_no_norm"
   ]
  },
  {
   "cell_type": "markdown",
   "id": "36947630",
   "metadata": {},
   "source": [
    "###  using Minmaxscaler"
   ]
  },
  {
   "cell_type": "code",
   "execution_count": 10,
   "id": "f1c50b0c",
   "metadata": {},
   "outputs": [],
   "source": [
    "scaler =MinMaxScaler()\n",
    "train=(scaler.fit_transform(X_train),y_train)\n",
    "test=(scaler.transform(X_test),y_test)"
   ]
  },
  {
   "cell_type": "code",
   "execution_count": 12,
   "id": "04fb6105",
   "metadata": {},
   "outputs": [
    {
     "data": {
      "text/plain": [
       "{'model': 'XGBClassifier',\n",
       " 'accuracy': 0.8804347826086957,\n",
       " 'auc': 0.8862726058987741,\n",
       " 'f1_score': 0.8921568627450981,\n",
       " 'cm': array([[71,  6],\n",
       "        [16, 91]]),\n",
       " 'training_time(ms)': 79.15210723876953,\n",
       " 'testing_time(ms)': 1.031637191772461}"
      ]
     },
     "execution_count": 12,
     "metadata": {},
     "output_type": "execute_result"
    }
   ],
   "source": [
    "rs_minmax=evaluate_model(xgb,'XGBClassifier',train,test)\n",
    "rs_minmax"
   ]
  },
  {
   "cell_type": "markdown",
   "id": "4dabf84e",
   "metadata": {},
   "source": [
    "### with StandardScaler "
   ]
  },
  {
   "cell_type": "code",
   "execution_count": 13,
   "id": "b41ea7cb",
   "metadata": {},
   "outputs": [],
   "source": [
    "scaler =StandardScaler()\n",
    "train=(scaler.fit_transform(X_train),y_train)\n",
    "test=(scaler.transform(X_test),y_test)"
   ]
  },
  {
   "cell_type": "code",
   "execution_count": 14,
   "id": "2d94b193",
   "metadata": {},
   "outputs": [
    {
     "data": {
      "text/plain": [
       "{'model': 'XGBClassifier',\n",
       " 'accuracy': 0.8804347826086957,\n",
       " 'auc': 0.8862726058987741,\n",
       " 'f1_score': 0.8921568627450981,\n",
       " 'cm': array([[71,  6],\n",
       "        [16, 91]]),\n",
       " 'training_time(ms)': 42.03629493713379,\n",
       " 'testing_time(ms)': 1.0373592376708984}"
      ]
     },
     "execution_count": 14,
     "metadata": {},
     "output_type": "execute_result"
    }
   ],
   "source": [
    "rs_standard=evaluate_model(xgb,'XGBClassifier',train,test)\n",
    "rs_standard"
   ]
  },
  {
   "cell_type": "code",
   "execution_count": 15,
   "id": "7996dee5",
   "metadata": {},
   "outputs": [],
   "source": [
    "rs_no_norm['normalisation']='without'\n",
    "rs_minmax['normalisation']='minmax'\n",
    "rs_standard['normalisation']='standard'"
   ]
  },
  {
   "cell_type": "code",
   "execution_count": 16,
   "id": "58e14170",
   "metadata": {},
   "outputs": [],
   "source": [
    "xgb_result=pd.DataFrame([rs_no_norm,rs_minmax,rs_standard])"
   ]
  },
  {
   "cell_type": "code",
   "execution_count": 17,
   "id": "582ce78d",
   "metadata": {},
   "outputs": [
    {
     "data": {
      "text/html": [
       "<div>\n",
       "<style scoped>\n",
       "    .dataframe tbody tr th:only-of-type {\n",
       "        vertical-align: middle;\n",
       "    }\n",
       "\n",
       "    .dataframe tbody tr th {\n",
       "        vertical-align: top;\n",
       "    }\n",
       "\n",
       "    .dataframe thead th {\n",
       "        text-align: right;\n",
       "    }\n",
       "</style>\n",
       "<table border=\"1\" class=\"dataframe\">\n",
       "  <thead>\n",
       "    <tr style=\"text-align: right;\">\n",
       "      <th></th>\n",
       "      <th>model</th>\n",
       "      <th>accuracy</th>\n",
       "      <th>auc</th>\n",
       "      <th>f1_score</th>\n",
       "      <th>cm</th>\n",
       "      <th>training_time(ms)</th>\n",
       "      <th>testing_time(ms)</th>\n",
       "      <th>normalisation</th>\n",
       "    </tr>\n",
       "  </thead>\n",
       "  <tbody>\n",
       "    <tr>\n",
       "      <th>0</th>\n",
       "      <td>XGBClassifier</td>\n",
       "      <td>0.880435</td>\n",
       "      <td>0.886273</td>\n",
       "      <td>0.892157</td>\n",
       "      <td>[[71, 6], [16, 91]]</td>\n",
       "      <td>225.923061</td>\n",
       "      <td>3.357172</td>\n",
       "      <td>without</td>\n",
       "    </tr>\n",
       "    <tr>\n",
       "      <th>1</th>\n",
       "      <td>XGBClassifier</td>\n",
       "      <td>0.880435</td>\n",
       "      <td>0.886273</td>\n",
       "      <td>0.892157</td>\n",
       "      <td>[[71, 6], [16, 91]]</td>\n",
       "      <td>79.152107</td>\n",
       "      <td>1.031637</td>\n",
       "      <td>minmax</td>\n",
       "    </tr>\n",
       "    <tr>\n",
       "      <th>2</th>\n",
       "      <td>XGBClassifier</td>\n",
       "      <td>0.880435</td>\n",
       "      <td>0.886273</td>\n",
       "      <td>0.892157</td>\n",
       "      <td>[[71, 6], [16, 91]]</td>\n",
       "      <td>42.036295</td>\n",
       "      <td>1.037359</td>\n",
       "      <td>standard</td>\n",
       "    </tr>\n",
       "  </tbody>\n",
       "</table>\n",
       "</div>"
      ],
      "text/plain": [
       "           model  accuracy       auc  f1_score                   cm  \\\n",
       "0  XGBClassifier  0.880435  0.886273  0.892157  [[71, 6], [16, 91]]   \n",
       "1  XGBClassifier  0.880435  0.886273  0.892157  [[71, 6], [16, 91]]   \n",
       "2  XGBClassifier  0.880435  0.886273  0.892157  [[71, 6], [16, 91]]   \n",
       "\n",
       "   training_time(ms)  testing_time(ms) normalisation  \n",
       "0         225.923061          3.357172       without  \n",
       "1          79.152107          1.031637        minmax  \n",
       "2          42.036295          1.037359      standard  "
      ]
     },
     "execution_count": 17,
     "metadata": {},
     "output_type": "execute_result"
    }
   ],
   "source": [
    "xgb_result"
   ]
  },
  {
   "cell_type": "code",
   "execution_count": 18,
   "id": "dcb6b050",
   "metadata": {},
   "outputs": [],
   "source": [
    "all_result = pd.read_csv(\"../result/exp1.csv\")"
   ]
  },
  {
   "cell_type": "code",
   "execution_count": 21,
   "id": "0fba55ba",
   "metadata": {},
   "outputs": [],
   "source": [
    "all_result=pd.concat((all_result,xgb_result))"
   ]
  },
  {
   "cell_type": "code",
   "execution_count": 22,
   "id": "b5d017da",
   "metadata": {},
   "outputs": [],
   "source": [
    "all_result.to_csv(\"../result/exp1.csv\",index=False)"
   ]
  }
 ],
 "metadata": {
  "kernelspec": {
   "display_name": "Python 3",
   "language": "python",
   "name": "python3"
  },
  "language_info": {
   "codemirror_mode": {
    "name": "ipython",
    "version": 3
   },
   "file_extension": ".py",
   "mimetype": "text/x-python",
   "name": "python",
   "nbconvert_exporter": "python",
   "pygments_lexer": "ipython3",
   "version": "3.12.1"
  }
 },
 "nbformat": 4,
 "nbformat_minor": 5
}
