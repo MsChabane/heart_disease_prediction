{
 "cells": [
  {
   "cell_type": "markdown",
   "id": "95f96dfb",
   "metadata": {},
   "source": [
    "# Experiment 6\n",
    "\n",
    "- try `crossvalidation` for the best models\n",
    "- use normalisation (`SVC` need normalisation 'exp1')\n"
   ]
  },
  {
   "cell_type": "code",
   "execution_count": 11,
   "id": "297fb481",
   "metadata": {},
   "outputs": [],
   "source": [
    "import time \n",
    "import pandas as pd\n",
    "from sklearn.model_selection import train_test_split,cross_val_score,cross_val_predict\n",
    "from sklearn.ensemble import RandomForestClassifier,VotingClassifier,GradientBoostingClassifier\n",
    "from sklearn .svm import SVC\n",
    "from sklearn .metrics import roc_auc_score,accuracy_score,confusion_matrix,f1_score\n",
    "from xgboost import XGBClassifier\n",
    "import json\n",
    "import numpy as np\n",
    "from sklearn.preprocessing import StandardScaler\n",
    "\n",
    "\n"
   ]
  },
  {
   "cell_type": "code",
   "execution_count": 7,
   "metadata": {},
   "outputs": [],
   "source": [
    "df = pd.read_csv(\"../data/cleaned_data.csv\")\n",
    "with open('../result/xgbc_best_hyperparameters.json') as f :\n",
    "    xgbc_best_params=json.load(f)\n",
    "with open('../result/rfc_best_hyperparameters.json') as f :\n",
    "    rfc_best_params=json.load(f)\n",
    "with open('../result/svc_best_hyperparameters.json') as f :\n",
    "    svc_best_params=json.load(f)\n",
    "with open('../result/gbc_best_hyperparameters.json') as f :\n",
    "    gbc_best_params=json.load(f)"
   ]
  },
  {
   "cell_type": "code",
   "execution_count": 36,
   "id": "994543bd",
   "metadata": {},
   "outputs": [],
   "source": [
    "def evaluate_model(model,model_name:str,train:tuple,test:tuple,cv=10):\n",
    "    start_train=time.time()\n",
    "    model.fit(train[0],train[1])\n",
    "    end_train=time.time()\n",
    "    start_test=time.time()\n",
    "    preds = model.predict(test[0])\n",
    "    end_test=time.time()\n",
    "    accuracy=accuracy_score(test[1],preds)\n",
    "    f1_=f1_score(test[1],preds)\n",
    "    auc=roc_auc_score(test[1],preds)\n",
    "    cm=confusion_matrix(test[1],preds)\n",
    "    return {\"model\":model_name,\n",
    "           \"accuracy\":accuracy,\n",
    "            \"auc\":auc,\n",
    "            'f1_score':f1_,\n",
    "            \"cm\":cm,\n",
    "            'training_time(ms)':1000*(end_train-start_train),\n",
    "            'testing_time(ms)':1000*(end_test-start_test)\n",
    "           }"
   ]
  },
  {
   "cell_type": "code",
   "execution_count": 37,
   "id": "8b12716a",
   "metadata": {},
   "outputs": [],
   "source": [
    "models=[\n",
    "    XGBClassifier(**xgbc_best_params),\n",
    "    RandomForestClassifier(**rfc_best_params),\n",
    "    VotingClassifier([\n",
    "        ('xgb',XGBClassifier(**xgbc_best_params)),\n",
    "        ('rfc',RandomForestClassifier(**rfc_best_params))\n",
    "    ],voting='soft'),\n",
    "    SVC(**svc_best_params,probability=True),\n",
    "    GradientBoostingClassifier(**gbc_best_params)\n",
    "]"
   ]
  },
  {
   "cell_type": "code",
   "execution_count": 28,
   "id": "d6c06e84",
   "metadata": {},
   "outputs": [],
   "source": [
    "df=pd.read_csv('../data/cleaned_data.csv')\n",
    "X_train,X_test,y_train,y_test=train_test_split(df.drop('target',axis=1),df.target,test_size=0.2,random_state=42)\n",
    "scaler=StandardScaler()\n",
    "train=(scaler.fit_transform(X_train),y_train)\n",
    "test=(scaler.transform(X_test),y_test)"
   ]
  },
  {
   "cell_type": "code",
   "execution_count": 38,
   "id": "6b13303a",
   "metadata": {},
   "outputs": [],
   "source": [
    "def evaluate_models(models,train,test,cv=10):\n",
    "    result = []\n",
    "    for model in models:\n",
    "        scores=cross_val_score(model,train[0],train[1],cv=cv,scoring='roc_auc_ovo')\n",
    "        rs=evaluate_model(model,model.__class__.__name__,train,test)\n",
    "        rs.update({\n",
    "            'scoring':scores,\n",
    "            'mean_scores':scores.mean(),\n",
    "            'std_scores':scores.std()\n",
    "        })\n",
    "        result.append(rs)\n",
    "    return pd.DataFrame(result) "
   ]
  },
  {
   "cell_type": "code",
   "execution_count": 39,
   "id": "d698b807",
   "metadata": {},
   "outputs": [],
   "source": [
    "rseult = evaluate_models(models,train,test)"
   ]
  },
  {
   "cell_type": "code",
   "execution_count": 49,
   "id": "28f6aa54",
   "metadata": {},
   "outputs": [],
   "source": [
    "rseult.to_csv('../result/exp6.csv',index=False)"
   ]
  }
 ],
 "metadata": {
  "kernelspec": {
   "display_name": "Python 3",
   "language": "python",
   "name": "python3"
  },
  "language_info": {
   "codemirror_mode": {
    "name": "ipython",
    "version": 3
   },
   "file_extension": ".py",
   "mimetype": "text/x-python",
   "name": "python",
   "nbconvert_exporter": "python",
   "pygments_lexer": "ipython3",
   "version": "3.11.5"
  }
 },
 "nbformat": 4,
 "nbformat_minor": 5
}
