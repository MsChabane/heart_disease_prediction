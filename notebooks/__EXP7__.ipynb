{
 "cells": [
  {
   "cell_type": "markdown",
   "id": "24f91a12",
   "metadata": {},
   "source": [
    "# Experiment 7\n",
    "\n",
    "- identify outliers with methode of `IQR`\n",
    "- try to replace outliers with mean and midian\n",
    "- try to delete the outliers\n",
    "- compare the result\n"
   ]
  },
  {
   "cell_type": "code",
   "execution_count": 1,
   "id": "dd13d8da",
   "metadata": {},
   "outputs": [],
   "source": [
    "import pandas as pd\n",
    "import numpy as np\n",
    "from sklearn.model_selection import train_test_split\n",
    "\n",
    "from sklearn.preprocessing import StandardScaler\n",
    "from sklearn.ensemble import RandomForestClassifier,GradientBoostingClassifier,VotingClassifier\n",
    "from sklearn.svm import SVC\n",
    "from xgboost import XGBClassifier\n",
    "\n",
    "from sklearn.metrics import accuracy_score,f1_score,confusion_matrix,roc_auc_score\n",
    "import time\n",
    "\n",
    "import json"
   ]
  },
  {
   "cell_type": "code",
   "execution_count": 2,
   "id": "affbba5f",
   "metadata": {},
   "outputs": [],
   "source": [
    "def evaluate_model(model,model_name:str,train:tuple,test:tuple):\n",
    "    start_train=time.time()\n",
    "    model.fit(train[0],train[1])\n",
    "    end_train=time.time()\n",
    "    start_test=time.time()\n",
    "    preds = model.predict(test[0])\n",
    "    end_test=time.time()\n",
    "    accuracy=accuracy_score(test[1],preds)\n",
    "    f1_=f1_score(test[1],preds)\n",
    "    auc=roc_auc_score(test[1],preds)\n",
    "    cm=confusion_matrix(test[1],preds)\n",
    "    return {\"model\":model_name,\n",
    "           \"accuracy\":accuracy,\n",
    "            \"auc\":auc,\n",
    "            'f1_score':f1_,\n",
    "            \"cm\":cm,\n",
    "            'training_time(ms)':1000*(end_train-start_train),\n",
    "            'testing_time(ms)':1000*(end_test-start_test)\n",
    "           }"
   ]
  },
  {
   "cell_type": "code",
   "execution_count": 3,
   "id": "ab974e5d",
   "metadata": {},
   "outputs": [],
   "source": [
    "def evaluate_models(models:list,train:tuple,test:tuple)->pd.DataFrame:\n",
    "    result=[evaluate_model(model,model.__class__.__name__,train,test)for model in models]\n",
    "    return pd.DataFrame(result)"
   ]
  },
  {
   "cell_type": "code",
   "execution_count": 4,
   "id": "4b78014c",
   "metadata": {},
   "outputs": [],
   "source": [
    "df=pd.read_csv('../data/cleaned_data.csv')\n"
   ]
  },
  {
   "cell_type": "code",
   "execution_count": 5,
   "id": "fa24332d",
   "metadata": {},
   "outputs": [],
   "source": [
    "def get_outlier_indexs(df:pd.DataFrame,num_features:list):\n",
    "    outliers={}\n",
    "    for col in num_features:\n",
    "        q1=df[col].quantile(0.25)\n",
    "        q3=df[col].quantile(0.75)\n",
    "        iqr=q3-q1\n",
    "        upper=q3+1.5*iqr\n",
    "        lower=q1-1.5*iqr\n",
    "        idxs= df[(df[col] > upper) | (df [col] <lower)].index.tolist()\n",
    "        if idxs:\n",
    "            outliers[col]= idxs\n",
    "        \n",
    "    return outliers\n",
    "    "
   ]
  },
  {
   "cell_type": "code",
   "execution_count": 6,
   "id": "78b3b42e",
   "metadata": {},
   "outputs": [],
   "source": [
    "num_features = [col for col in df.columns if df[col].nunique()>25]\n"
   ]
  },
  {
   "cell_type": "code",
   "execution_count": 7,
   "id": "37fcc305",
   "metadata": {},
   "outputs": [
    {
     "data": {
      "text/plain": [
       "['age', 'resting bp s', 'cholesterol', 'max heart rate', 'oldpeak']"
      ]
     },
     "execution_count": 7,
     "metadata": {},
     "output_type": "execute_result"
    }
   ],
   "source": [
    "num_features"
   ]
  },
  {
   "cell_type": "code",
   "execution_count": null,
   "id": "b7723570",
   "metadata": {},
   "outputs": [],
   "source": []
  },
  {
   "cell_type": "code",
   "execution_count": null,
   "id": "2b42cb66",
   "metadata": {},
   "outputs": [],
   "source": []
  },
  {
   "cell_type": "code",
   "execution_count": 8,
   "id": "57895974",
   "metadata": {},
   "outputs": [],
   "source": [
    "def get_train_test(df:pd.DataFrame)->tuple:\n",
    "    X_train,X_test,y_train,y_test=train_test_split(df.drop('target',axis=1),df.target,test_size=0.2,random_state=42)\n",
    "    scaler=StandardScaler()\n",
    "    train=(scaler.fit_transform(X_train),y_train)\n",
    "    test=(scaler.transform(X_test),y_test)\n",
    "    return train,test"
   ]
  },
  {
   "cell_type": "code",
   "execution_count": 9,
   "id": "beb3f4dd",
   "metadata": {},
   "outputs": [],
   "source": [
    " \n",
    "with open('../result/svc_best_hyperparameters.json') as f :\n",
    "    svc_best_params=json.load(f)\n",
    "with open('../result/rfc_best_hyperparameters.json') as f :\n",
    "    rfc_best_params=json.load(f)\n",
    "with open('../result/gbc_best_hyperparameters.json') as f :\n",
    "    gbc_best_params=json.load(f)\n",
    "with open('../result/xgbc_best_hyperparameters.json') as f :\n",
    "    xgbc_best_params=json.load(f)"
   ]
  },
  {
   "cell_type": "code",
   "execution_count": 10,
   "metadata": {},
   "outputs": [],
   "source": [
    "models=[\n",
    "    XGBClassifier(**xgbc_best_params),\n",
    "    RandomForestClassifier(**rfc_best_params),\n",
    "    VotingClassifier([\n",
    "        ('xgb',XGBClassifier(**xgbc_best_params)),\n",
    "        ('rfc',RandomForestClassifier(**rfc_best_params))\n",
    "    ],voting='soft'),\n",
    "    SVC(**svc_best_params,probability=True),\n",
    "    GradientBoostingClassifier(**gbc_best_params)\n",
    "]"
   ]
  },
  {
   "cell_type": "code",
   "execution_count": 11,
   "id": "227806f8",
   "metadata": {},
   "outputs": [],
   "source": [
    "outliers=get_outlier_indexs(df,num_features)"
   ]
  },
  {
   "cell_type": "code",
   "execution_count": 12,
   "id": "daf336e6",
   "metadata": {},
   "outputs": [],
   "source": [
    "def replace_outliers(df:pd.DataFrame,outliers:dict,strategy ):\n",
    "    \n",
    "    for col in outliers:\n",
    "        df.loc[outliers[col],col]= df[col].mean() if strategy =='mean' else df[col].median()\n",
    "    return df"
   ]
  },
  {
   "cell_type": "markdown",
   "id": "f9e09f61",
   "metadata": {},
   "source": [
    "## fill outliers by `mean`\n"
   ]
  },
  {
   "cell_type": "code",
   "execution_count": 13,
   "id": "51a8edca",
   "metadata": {},
   "outputs": [
    {
     "data": {
      "text/plain": [
       "dict_keys(['resting bp s', 'cholesterol', 'max heart rate', 'oldpeak'])"
      ]
     },
     "execution_count": 13,
     "metadata": {},
     "output_type": "execute_result"
    }
   ],
   "source": [
    "outliers.keys()"
   ]
  },
  {
   "cell_type": "code",
   "execution_count": 14,
   "id": "6c18cb64",
   "metadata": {},
   "outputs": [
    {
     "name": "stderr",
     "output_type": "stream",
     "text": [
      "C:\\Users\\ASLI LAPTOP\\AppData\\Local\\Temp\\ipykernel_10952\\1697946654.py:4: FutureWarning: Setting an item of incompatible dtype is deprecated and will raise an error in a future version of pandas. Value '132.39651416122004' has dtype incompatible with int64, please explicitly cast to a compatible dtype first.\n",
      "  df.loc[outliers[col],col]= df[col].mean() if strategy =='mean' else df[col].median()\n",
      "C:\\Users\\ASLI LAPTOP\\AppData\\Local\\Temp\\ipykernel_10952\\1697946654.py:4: FutureWarning: Setting an item of incompatible dtype is deprecated and will raise an error in a future version of pandas. Value '198.7995642701525' has dtype incompatible with int64, please explicitly cast to a compatible dtype first.\n",
      "  df.loc[outliers[col],col]= df[col].mean() if strategy =='mean' else df[col].median()\n",
      "C:\\Users\\ASLI LAPTOP\\AppData\\Local\\Temp\\ipykernel_10952\\1697946654.py:4: FutureWarning: Setting an item of incompatible dtype is deprecated and will raise an error in a future version of pandas. Value '136.80936819172112' has dtype incompatible with int64, please explicitly cast to a compatible dtype first.\n",
      "  df.loc[outliers[col],col]= df[col].mean() if strategy =='mean' else df[col].median()\n"
     ]
    }
   ],
   "source": [
    "df = replace_outliers(df,outliers,'mean')"
   ]
  },
  {
   "cell_type": "code",
   "execution_count": 15,
   "id": "b77e5fc9",
   "metadata": {},
   "outputs": [],
   "source": [
    "train,test=get_train_test(df)\n",
    "res_mean=evaluate_models(models,train,test)"
   ]
  },
  {
   "cell_type": "code",
   "execution_count": 16,
   "id": "ad500d1b",
   "metadata": {},
   "outputs": [
    {
     "data": {
      "text/html": [
       "<div>\n",
       "<style scoped>\n",
       "    .dataframe tbody tr th:only-of-type {\n",
       "        vertical-align: middle;\n",
       "    }\n",
       "\n",
       "    .dataframe tbody tr th {\n",
       "        vertical-align: top;\n",
       "    }\n",
       "\n",
       "    .dataframe thead th {\n",
       "        text-align: right;\n",
       "    }\n",
       "</style>\n",
       "<table border=\"1\" class=\"dataframe\">\n",
       "  <thead>\n",
       "    <tr style=\"text-align: right;\">\n",
       "      <th></th>\n",
       "      <th>model</th>\n",
       "      <th>accuracy</th>\n",
       "      <th>auc</th>\n",
       "      <th>f1_score</th>\n",
       "      <th>cm</th>\n",
       "      <th>training_time(ms)</th>\n",
       "      <th>testing_time(ms)</th>\n",
       "    </tr>\n",
       "  </thead>\n",
       "  <tbody>\n",
       "    <tr>\n",
       "      <th>0</th>\n",
       "      <td>XGBClassifier</td>\n",
       "      <td>0.864130</td>\n",
       "      <td>0.864971</td>\n",
       "      <td>0.880383</td>\n",
       "      <td>[[67, 10], [15, 92]]</td>\n",
       "      <td>1100.599289</td>\n",
       "      <td>3.987551</td>\n",
       "    </tr>\n",
       "    <tr>\n",
       "      <th>1</th>\n",
       "      <td>RandomForestClassifier</td>\n",
       "      <td>0.858696</td>\n",
       "      <td>0.858478</td>\n",
       "      <td>0.876190</td>\n",
       "      <td>[[66, 11], [15, 92]]</td>\n",
       "      <td>880.856037</td>\n",
       "      <td>15.623093</td>\n",
       "    </tr>\n",
       "    <tr>\n",
       "      <th>2</th>\n",
       "      <td>VotingClassifier</td>\n",
       "      <td>0.858696</td>\n",
       "      <td>0.858478</td>\n",
       "      <td>0.876190</td>\n",
       "      <td>[[66, 11], [15, 92]]</td>\n",
       "      <td>914.822102</td>\n",
       "      <td>31.243086</td>\n",
       "    </tr>\n",
       "    <tr>\n",
       "      <th>3</th>\n",
       "      <td>SVC</td>\n",
       "      <td>0.858696</td>\n",
       "      <td>0.860299</td>\n",
       "      <td>0.875000</td>\n",
       "      <td>[[67, 10], [16, 91]]</td>\n",
       "      <td>197.122574</td>\n",
       "      <td>11.178970</td>\n",
       "    </tr>\n",
       "    <tr>\n",
       "      <th>4</th>\n",
       "      <td>GradientBoostingClassifier</td>\n",
       "      <td>0.858696</td>\n",
       "      <td>0.858478</td>\n",
       "      <td>0.876190</td>\n",
       "      <td>[[66, 11], [15, 92]]</td>\n",
       "      <td>916.395426</td>\n",
       "      <td>15.476227</td>\n",
       "    </tr>\n",
       "  </tbody>\n",
       "</table>\n",
       "</div>"
      ],
      "text/plain": [
       "                        model  accuracy       auc  f1_score  \\\n",
       "0               XGBClassifier  0.864130  0.864971  0.880383   \n",
       "1      RandomForestClassifier  0.858696  0.858478  0.876190   \n",
       "2            VotingClassifier  0.858696  0.858478  0.876190   \n",
       "3                         SVC  0.858696  0.860299  0.875000   \n",
       "4  GradientBoostingClassifier  0.858696  0.858478  0.876190   \n",
       "\n",
       "                     cm  training_time(ms)  testing_time(ms)  \n",
       "0  [[67, 10], [15, 92]]        1100.599289          3.987551  \n",
       "1  [[66, 11], [15, 92]]         880.856037         15.623093  \n",
       "2  [[66, 11], [15, 92]]         914.822102         31.243086  \n",
       "3  [[67, 10], [16, 91]]         197.122574         11.178970  \n",
       "4  [[66, 11], [15, 92]]         916.395426         15.476227  "
      ]
     },
     "execution_count": 16,
     "metadata": {},
     "output_type": "execute_result"
    }
   ],
   "source": [
    "res_mean"
   ]
  },
  {
   "cell_type": "markdown",
   "id": "25594b57",
   "metadata": {},
   "source": [
    "## fill outliers by `median`\n"
   ]
  },
  {
   "cell_type": "code",
   "execution_count": 17,
   "id": "082e9535",
   "metadata": {},
   "outputs": [],
   "source": [
    "df=replace_outliers(df,outliers,'median')\n",
    "train,test=get_train_test(df)\n",
    "res_median=evaluate_models(models,train,test)"
   ]
  },
  {
   "cell_type": "code",
   "execution_count": 18,
   "id": "6676dfa8",
   "metadata": {},
   "outputs": [
    {
     "data": {
      "text/html": [
       "<div>\n",
       "<style scoped>\n",
       "    .dataframe tbody tr th:only-of-type {\n",
       "        vertical-align: middle;\n",
       "    }\n",
       "\n",
       "    .dataframe tbody tr th {\n",
       "        vertical-align: top;\n",
       "    }\n",
       "\n",
       "    .dataframe thead th {\n",
       "        text-align: right;\n",
       "    }\n",
       "</style>\n",
       "<table border=\"1\" class=\"dataframe\">\n",
       "  <thead>\n",
       "    <tr style=\"text-align: right;\">\n",
       "      <th></th>\n",
       "      <th>model</th>\n",
       "      <th>accuracy</th>\n",
       "      <th>auc</th>\n",
       "      <th>f1_score</th>\n",
       "      <th>cm</th>\n",
       "      <th>training_time(ms)</th>\n",
       "      <th>testing_time(ms)</th>\n",
       "    </tr>\n",
       "  </thead>\n",
       "  <tbody>\n",
       "    <tr>\n",
       "      <th>0</th>\n",
       "      <td>XGBClassifier</td>\n",
       "      <td>0.875000</td>\n",
       "      <td>0.874317</td>\n",
       "      <td>0.890995</td>\n",
       "      <td>[[67, 10], [13, 94]]</td>\n",
       "      <td>406.073332</td>\n",
       "      <td>0.000000</td>\n",
       "    </tr>\n",
       "    <tr>\n",
       "      <th>1</th>\n",
       "      <td>RandomForestClassifier</td>\n",
       "      <td>0.869565</td>\n",
       "      <td>0.869644</td>\n",
       "      <td>0.885714</td>\n",
       "      <td>[[67, 10], [14, 93]]</td>\n",
       "      <td>714.136839</td>\n",
       "      <td>36.874294</td>\n",
       "    </tr>\n",
       "    <tr>\n",
       "      <th>2</th>\n",
       "      <td>VotingClassifier</td>\n",
       "      <td>0.869565</td>\n",
       "      <td>0.869644</td>\n",
       "      <td>0.885714</td>\n",
       "      <td>[[67, 10], [14, 93]]</td>\n",
       "      <td>782.511711</td>\n",
       "      <td>30.105352</td>\n",
       "    </tr>\n",
       "    <tr>\n",
       "      <th>3</th>\n",
       "      <td>SVC</td>\n",
       "      <td>0.858696</td>\n",
       "      <td>0.860299</td>\n",
       "      <td>0.875000</td>\n",
       "      <td>[[67, 10], [16, 91]]</td>\n",
       "      <td>114.576101</td>\n",
       "      <td>16.855717</td>\n",
       "    </tr>\n",
       "    <tr>\n",
       "      <th>4</th>\n",
       "      <td>GradientBoostingClassifier</td>\n",
       "      <td>0.869565</td>\n",
       "      <td>0.871465</td>\n",
       "      <td>0.884615</td>\n",
       "      <td>[[68, 9], [15, 92]]</td>\n",
       "      <td>549.932003</td>\n",
       "      <td>0.000000</td>\n",
       "    </tr>\n",
       "  </tbody>\n",
       "</table>\n",
       "</div>"
      ],
      "text/plain": [
       "                        model  accuracy       auc  f1_score  \\\n",
       "0               XGBClassifier  0.875000  0.874317  0.890995   \n",
       "1      RandomForestClassifier  0.869565  0.869644  0.885714   \n",
       "2            VotingClassifier  0.869565  0.869644  0.885714   \n",
       "3                         SVC  0.858696  0.860299  0.875000   \n",
       "4  GradientBoostingClassifier  0.869565  0.871465  0.884615   \n",
       "\n",
       "                     cm  training_time(ms)  testing_time(ms)  \n",
       "0  [[67, 10], [13, 94]]         406.073332          0.000000  \n",
       "1  [[67, 10], [14, 93]]         714.136839         36.874294  \n",
       "2  [[67, 10], [14, 93]]         782.511711         30.105352  \n",
       "3  [[67, 10], [16, 91]]         114.576101         16.855717  \n",
       "4   [[68, 9], [15, 92]]         549.932003          0.000000  "
      ]
     },
     "execution_count": 18,
     "metadata": {},
     "output_type": "execute_result"
    }
   ],
   "source": [
    "res_median"
   ]
  },
  {
   "cell_type": "markdown",
   "id": "a367e7e4",
   "metadata": {},
   "source": [
    "## drop outliers\n"
   ]
  },
  {
   "cell_type": "code",
   "execution_count": 19,
   "id": "739917f7",
   "metadata": {},
   "outputs": [],
   "source": [
    "all_outliers=[]\n",
    "for col in outliers:\n",
    "    all_outliers.extend(outliers[col])"
   ]
  },
  {
   "cell_type": "code",
   "execution_count": 20,
   "id": "06e28b2a",
   "metadata": {},
   "outputs": [],
   "source": [
    "df.drop(all_outliers,inplace=True)"
   ]
  },
  {
   "cell_type": "code",
   "execution_count": 21,
   "id": "ef37ea76",
   "metadata": {},
   "outputs": [],
   "source": [
    "train,test=get_train_test(df)\n",
    "res_=evaluate_models(models,train,test)"
   ]
  },
  {
   "cell_type": "code",
   "execution_count": 22,
   "id": "9d95cef8",
   "metadata": {},
   "outputs": [
    {
     "data": {
      "text/html": [
       "<div>\n",
       "<style scoped>\n",
       "    .dataframe tbody tr th:only-of-type {\n",
       "        vertical-align: middle;\n",
       "    }\n",
       "\n",
       "    .dataframe tbody tr th {\n",
       "        vertical-align: top;\n",
       "    }\n",
       "\n",
       "    .dataframe thead th {\n",
       "        text-align: right;\n",
       "    }\n",
       "</style>\n",
       "<table border=\"1\" class=\"dataframe\">\n",
       "  <thead>\n",
       "    <tr style=\"text-align: right;\">\n",
       "      <th></th>\n",
       "      <th>model</th>\n",
       "      <th>accuracy</th>\n",
       "      <th>auc</th>\n",
       "      <th>f1_score</th>\n",
       "      <th>cm</th>\n",
       "      <th>training_time(ms)</th>\n",
       "      <th>testing_time(ms)</th>\n",
       "    </tr>\n",
       "  </thead>\n",
       "  <tbody>\n",
       "    <tr>\n",
       "      <th>0</th>\n",
       "      <td>XGBClassifier</td>\n",
       "      <td>0.851064</td>\n",
       "      <td>0.851006</td>\n",
       "      <td>0.848921</td>\n",
       "      <td>[[61, 10], [11, 59]]</td>\n",
       "      <td>214.893818</td>\n",
       "      <td>0.000000</td>\n",
       "    </tr>\n",
       "    <tr>\n",
       "      <th>1</th>\n",
       "      <td>RandomForestClassifier</td>\n",
       "      <td>0.886525</td>\n",
       "      <td>0.886519</td>\n",
       "      <td>0.885714</td>\n",
       "      <td>[[63, 8], [8, 62]]</td>\n",
       "      <td>547.575712</td>\n",
       "      <td>28.308630</td>\n",
       "    </tr>\n",
       "    <tr>\n",
       "      <th>2</th>\n",
       "      <td>VotingClassifier</td>\n",
       "      <td>0.872340</td>\n",
       "      <td>0.872233</td>\n",
       "      <td>0.869565</td>\n",
       "      <td>[[63, 8], [10, 60]]</td>\n",
       "      <td>884.962559</td>\n",
       "      <td>32.949448</td>\n",
       "    </tr>\n",
       "    <tr>\n",
       "      <th>3</th>\n",
       "      <td>SVC</td>\n",
       "      <td>0.886525</td>\n",
       "      <td>0.886720</td>\n",
       "      <td>0.888889</td>\n",
       "      <td>[[61, 10], [6, 64]]</td>\n",
       "      <td>90.142965</td>\n",
       "      <td>5.867958</td>\n",
       "    </tr>\n",
       "    <tr>\n",
       "      <th>4</th>\n",
       "      <td>GradientBoostingClassifier</td>\n",
       "      <td>0.836879</td>\n",
       "      <td>0.836922</td>\n",
       "      <td>0.836879</td>\n",
       "      <td>[[59, 12], [11, 59]]</td>\n",
       "      <td>538.210392</td>\n",
       "      <td>0.000000</td>\n",
       "    </tr>\n",
       "  </tbody>\n",
       "</table>\n",
       "</div>"
      ],
      "text/plain": [
       "                        model  accuracy       auc  f1_score  \\\n",
       "0               XGBClassifier  0.851064  0.851006  0.848921   \n",
       "1      RandomForestClassifier  0.886525  0.886519  0.885714   \n",
       "2            VotingClassifier  0.872340  0.872233  0.869565   \n",
       "3                         SVC  0.886525  0.886720  0.888889   \n",
       "4  GradientBoostingClassifier  0.836879  0.836922  0.836879   \n",
       "\n",
       "                     cm  training_time(ms)  testing_time(ms)  \n",
       "0  [[61, 10], [11, 59]]         214.893818          0.000000  \n",
       "1    [[63, 8], [8, 62]]         547.575712         28.308630  \n",
       "2   [[63, 8], [10, 60]]         884.962559         32.949448  \n",
       "3   [[61, 10], [6, 64]]          90.142965          5.867958  \n",
       "4  [[59, 12], [11, 59]]         538.210392          0.000000  "
      ]
     },
     "execution_count": 22,
     "metadata": {},
     "output_type": "execute_result"
    }
   ],
   "source": [
    "res_"
   ]
  },
  {
   "cell_type": "markdown",
   "id": "424754da",
   "metadata": {},
   "source": [
    "## compare the result\n"
   ]
  },
  {
   "cell_type": "code",
   "execution_count": 23,
   "id": "28990015",
   "metadata": {},
   "outputs": [],
   "source": [
    "res_mean['strategy']='mean'\n",
    "res_median['strategy']='median'\n",
    "res_['strategy']='drop'\n"
   ]
  },
  {
   "cell_type": "code",
   "execution_count": 28,
   "id": "878ec0e0",
   "metadata": {},
   "outputs": [],
   "source": [
    "def interpret(result_mean,result_median,result_drop,metric):\n",
    "    print(f\"{metric}\",end='\\n\\n')\n",
    "    for i in range(result_mean.shape[0]):\n",
    "        rs_mn=result_mean.iloc[i]\n",
    "        rs_md=result_median.iloc[i]\n",
    "        rs_dr=result_drop.iloc[i]\n",
    "        print(f\"{rs_mn['model']} >> mean {rs_mn[metric]:.3f} | median {rs_md[metric]:.3f} | | drop {rs_dr[metric]:.3f}\",end='\\n\\n ')"
   ]
  },
  {
   "cell_type": "code",
   "execution_count": 29,
   "id": "c96050a2",
   "metadata": {},
   "outputs": [
    {
     "name": "stdout",
     "output_type": "stream",
     "text": [
      "auc\n",
      "\n",
      "XGBClassifier >> mean 0.865 | median 0.874 | | drop 0.851\n",
      "\n",
      " RandomForestClassifier >> mean 0.858 | median 0.870 | | drop 0.887\n",
      "\n",
      " VotingClassifier >> mean 0.858 | median 0.870 | | drop 0.872\n",
      "\n",
      " SVC >> mean 0.860 | median 0.860 | | drop 0.887\n",
      "\n",
      " GradientBoostingClassifier >> mean 0.858 | median 0.871 | | drop 0.837\n",
      "\n",
      " "
     ]
    }
   ],
   "source": [
    "interpret(result_mean=res_mean,result_median=res_median,result_drop=res_,metric='auc')"
   ]
  },
  {
   "cell_type": "code",
   "execution_count": 30,
   "id": "4024a392",
   "metadata": {},
   "outputs": [
    {
     "name": "stdout",
     "output_type": "stream",
     "text": [
      "f1_score\n",
      "\n",
      "XGBClassifier >> mean 0.880 | median 0.891 | | drop 0.849\n",
      "\n",
      " RandomForestClassifier >> mean 0.876 | median 0.886 | | drop 0.886\n",
      "\n",
      " VotingClassifier >> mean 0.876 | median 0.886 | | drop 0.870\n",
      "\n",
      " SVC >> mean 0.875 | median 0.875 | | drop 0.889\n",
      "\n",
      " GradientBoostingClassifier >> mean 0.876 | median 0.885 | | drop 0.837\n",
      "\n",
      " "
     ]
    }
   ],
   "source": [
    "interpret(result_mean=res_mean,result_median=res_median,result_drop=res_,metric='f1_score')"
   ]
  }
 ],
 "metadata": {
  "kernelspec": {
   "display_name": "Python 3",
   "language": "python",
   "name": "python3"
  },
  "language_info": {
   "codemirror_mode": {
    "name": "ipython",
    "version": 3
   },
   "file_extension": ".py",
   "mimetype": "text/x-python",
   "name": "python",
   "nbconvert_exporter": "python",
   "pygments_lexer": "ipython3",
   "version": "3.11.5"
  }
 },
 "nbformat": 4,
 "nbformat_minor": 5
}
