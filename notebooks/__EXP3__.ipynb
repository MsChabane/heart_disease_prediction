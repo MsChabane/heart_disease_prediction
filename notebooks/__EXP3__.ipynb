{
 "cells": [
  {
   "cell_type": "markdown",
   "id": "f2766974",
   "metadata": {},
   "source": [
    "# Experiment 3\n",
    "\n",
    "- try to use stacking and voting approche using the tuned models from the experiment 2\n",
    "- use `StandardScaler`\n",
    "- compare the result\n"
   ]
  },
  {
   "cell_type": "code",
   "execution_count": 79,
   "id": "b1f1775d",
   "metadata": {},
   "outputs": [],
   "source": [
    "import pandas as pd\n",
    "import numpy as np\n",
    "from sklearn.model_selection import train_test_split\n",
    "\n",
    "from sklearn.preprocessing import StandardScaler\n",
    "from sklearn.ensemble import RandomForestClassifier,GradientBoostingClassifier,VotingClassifier,StackingClassifier\n",
    "from sklearn.svm import SVC\n",
    "from sklearn.tree import DecisionTreeClassifier\n",
    "\n",
    "from sklearn.metrics import accuracy_score,f1_score,confusion_matrix,roc_auc_score\n",
    "import time\n",
    "import json"
   ]
  },
  {
   "cell_type": "code",
   "execution_count": 2,
   "id": "ae4514d1",
   "metadata": {},
   "outputs": [],
   "source": [
    "def evaluate_model(model,model_name:str,train:tuple,test:tuple):\n",
    "    start_train=time.time()\n",
    "    model.fit(train[0],train[1])\n",
    "    end_train=time.time()\n",
    "    start_test=time.time()\n",
    "    preds = model.predict(test[0])\n",
    "    end_test=time.time()\n",
    "    accuracy=accuracy_score(test[1],preds)\n",
    "    f1_=f1_score(test[1],preds)\n",
    "    auc=roc_auc_score(test[1],preds)\n",
    "    cm=confusion_matrix(test[1],preds)\n",
    "    return {\"model\":model_name,\n",
    "           \"accuracy\":accuracy,\n",
    "            \"auc\":auc,\n",
    "            'f1_score':f1_,\n",
    "            \"cm\":cm,\n",
    "            'training_time(ms)':1000*(end_train-start_train),\n",
    "            'testing_time(ms)':1000*(end_test-start_test)\n",
    "           }"
   ]
  },
  {
   "cell_type": "code",
   "execution_count": 3,
   "id": "bd55700a",
   "metadata": {},
   "outputs": [],
   "source": [
    "df=pd.read_csv('../data/cleaned_data.csv')\n",
    "X_train,X_test,y_train,y_test=train_test_split(df.drop('target',axis=1),df.target,test_size=0.2,random_state=42)\n",
    "scaler=StandardScaler()\n",
    "train=(scaler.fit_transform(X_train),y_train)\n",
    "test=(scaler.transform(X_test),y_test)"
   ]
  },
  {
   "cell_type": "code",
   "execution_count": 7,
   "id": "fe42551f",
   "metadata": {},
   "outputs": [],
   "source": [
    " \n",
    "with open('../result/svc_best_hyperparameters.json') as f :\n",
    "    svc_best_params=json.load(f)\n",
    "with open('../result/rfc_best_hyperparameters.json') as f :\n",
    "    rfc_best_params=json.load(f)\n",
    "with open('../result/gbc_best_hyperparameters.json') as f :\n",
    "    gbc_best_params=json.load(f)"
   ]
  },
  {
   "cell_type": "markdown",
   "id": "ccfc2490",
   "metadata": {},
   "source": [
    "## VotingClassifer\n"
   ]
  },
  {
   "cell_type": "code",
   "execution_count": 107,
   "metadata": {},
   "outputs": [],
   "source": [
    "vc=VotingClassifier([\n",
    "    ('rfc',RandomForestClassifier(**rfc_best_params)),\n",
    "    ('gbc',GradientBoostingClassifier(**gbc_best_params)),\n",
    "    ('svc',SVC(**svc_best_params))\n",
    "],weights=[3,2,1],voting='hard')"
   ]
  },
  {
   "cell_type": "code",
   "execution_count": 108,
   "id": "3c3da140",
   "metadata": {},
   "outputs": [],
   "source": [
    "rs_vc=evaluate_model(vc,\"VotingClassifier\",train,test)"
   ]
  },
  {
   "cell_type": "code",
   "execution_count": 110,
   "id": "fe65b002",
   "metadata": {},
   "outputs": [
    {
     "data": {
      "text/plain": [
       "{'model': 'VotingClassifier',\n",
       " 'accuracy': 0.9021739130434783,\n",
       " 'auc': 0.9013229760893312,\n",
       " 'f1_score': 0.9150943396226415,\n",
       " 'cm': array([[69,  8],\n",
       "        [10, 97]], dtype=int64),\n",
       " 'training_time(ms)': 1435.5239868164062,\n",
       " 'testing_time(ms)': 29.400348663330078}"
      ]
     },
     "execution_count": 110,
     "metadata": {},
     "output_type": "execute_result"
    }
   ],
   "source": [
    "rs_vc"
   ]
  },
  {
   "cell_type": "markdown",
   "id": "3a87e343",
   "metadata": {},
   "source": [
    "## StackingClassifier\n"
   ]
  },
  {
   "cell_type": "code",
   "execution_count": null,
   "id": "f3bfccce",
   "metadata": {},
   "outputs": [],
   "source": [
    "stc=StackingClassifier(\n",
    "    [\n",
    "    ('rfc',RandomForestClassifier(**rfc_best_params)),\n",
    "    ('gbc',GradientBoostingClassifier(**gbc_best_params)),\n",
    "    ('svc',SVC(**svc_best_params,probability=True)) \n",
    "    ],\n",
    "    cv=3,\n",
    "    stack_method='auto'\n",
    ")"
   ]
  },
  {
   "cell_type": "code",
   "execution_count": 112,
   "id": "25192c96",
   "metadata": {},
   "outputs": [],
   "source": [
    "rs_stc=evaluate_model(stc,\"StackingClassifier\",train,test)"
   ]
  },
  {
   "cell_type": "code",
   "execution_count": 113,
   "id": "b11f1008",
   "metadata": {},
   "outputs": [
    {
     "data": {
      "text/plain": [
       "{'model': 'StackingClassifier',\n",
       " 'accuracy': 0.8804347826086957,\n",
       " 'auc': 0.8771695594125501,\n",
       " 'f1_score': 0.897196261682243,\n",
       " 'cm': array([[66, 11],\n",
       "        [11, 96]], dtype=int64),\n",
       " 'training_time(ms)': 4981.812953948975,\n",
       " 'testing_time(ms)': 40.83561897277832}"
      ]
     },
     "execution_count": 113,
     "metadata": {},
     "output_type": "execute_result"
    }
   ],
   "source": [
    "rs_stc"
   ]
  },
  {
   "cell_type": "code",
   "execution_count": 114,
   "id": "710550f2",
   "metadata": {},
   "outputs": [],
   "source": [
    "result =pd.DataFrame([rs_vc,rs_stc])"
   ]
  },
  {
   "cell_type": "code",
   "execution_count": 115,
   "id": "35677744",
   "metadata": {},
   "outputs": [
    {
     "data": {
      "text/html": [
       "<div>\n",
       "<style scoped>\n",
       "    .dataframe tbody tr th:only-of-type {\n",
       "        vertical-align: middle;\n",
       "    }\n",
       "\n",
       "    .dataframe tbody tr th {\n",
       "        vertical-align: top;\n",
       "    }\n",
       "\n",
       "    .dataframe thead th {\n",
       "        text-align: right;\n",
       "    }\n",
       "</style>\n",
       "<table border=\"1\" class=\"dataframe\">\n",
       "  <thead>\n",
       "    <tr style=\"text-align: right;\">\n",
       "      <th></th>\n",
       "      <th>model</th>\n",
       "      <th>accuracy</th>\n",
       "      <th>auc</th>\n",
       "      <th>f1_score</th>\n",
       "      <th>cm</th>\n",
       "      <th>training_time(ms)</th>\n",
       "      <th>testing_time(ms)</th>\n",
       "    </tr>\n",
       "  </thead>\n",
       "  <tbody>\n",
       "    <tr>\n",
       "      <th>0</th>\n",
       "      <td>VotingClassifier</td>\n",
       "      <td>0.902174</td>\n",
       "      <td>0.901323</td>\n",
       "      <td>0.915094</td>\n",
       "      <td>[[69, 8], [10, 97]]</td>\n",
       "      <td>1435.523987</td>\n",
       "      <td>29.400349</td>\n",
       "    </tr>\n",
       "    <tr>\n",
       "      <th>1</th>\n",
       "      <td>StackingClassifier</td>\n",
       "      <td>0.880435</td>\n",
       "      <td>0.877170</td>\n",
       "      <td>0.897196</td>\n",
       "      <td>[[66, 11], [11, 96]]</td>\n",
       "      <td>4981.812954</td>\n",
       "      <td>40.835619</td>\n",
       "    </tr>\n",
       "  </tbody>\n",
       "</table>\n",
       "</div>"
      ],
      "text/plain": [
       "                model  accuracy       auc  f1_score                    cm  \\\n",
       "0    VotingClassifier  0.902174  0.901323  0.915094   [[69, 8], [10, 97]]   \n",
       "1  StackingClassifier  0.880435  0.877170  0.897196  [[66, 11], [11, 96]]   \n",
       "\n",
       "   training_time(ms)  testing_time(ms)  \n",
       "0        1435.523987         29.400349  \n",
       "1        4981.812954         40.835619  "
      ]
     },
     "execution_count": 115,
     "metadata": {},
     "output_type": "execute_result"
    }
   ],
   "source": [
    "result"
   ]
  },
  {
   "cell_type": "code",
   "execution_count": 116,
   "id": "bf49358e",
   "metadata": {},
   "outputs": [],
   "source": [
    "result.to_csv(\"../result/exp3.csv\",index=False)"
   ]
  },
  {
   "cell_type": "code",
   "execution_count": null,
   "id": "b59e6f30",
   "metadata": {},
   "outputs": [],
   "source": []
  }
 ],
 "metadata": {
  "kernelspec": {
   "display_name": "base",
   "language": "python",
   "name": "python3"
  },
  "language_info": {
   "codemirror_mode": {
    "name": "ipython",
    "version": 3
   },
   "file_extension": ".py",
   "mimetype": "text/x-python",
   "name": "python",
   "nbconvert_exporter": "python",
   "pygments_lexer": "ipython3",
   "version": "3.12.4"
  }
 },
 "nbformat": 4,
 "nbformat_minor": 5
}
